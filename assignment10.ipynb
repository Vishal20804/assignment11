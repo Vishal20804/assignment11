{
 "cells": [
  {
   "cell_type": "code",
   "execution_count": 1,
   "id": "561f58cb-4c95-4b57-ba64-d5c5ca32d876",
   "metadata": {},
   "outputs": [
    {
     "name": "stdout",
     "output_type": "stream",
     "text": [
      "Tesla Model S\n",
      "250\n",
      "120\n"
     ]
    }
   ],
   "source": [
    "#ans:1=\n",
    "class Vehicle:\n",
    "    def __init__(self, name_of_vehicle, max_speed, average_of_vehicle):\n",
    "        self.name_of_vehicle = name_of_vehicle\n",
    "        self.max_speed = max_speed\n",
    "        self.average_of_vehicle = average_of_vehicle\n",
    "my_vehicle = Vehicle(\"Tesla Model S\", 250, 120)\n",
    "print(my_vehicle.name_of_vehicle)   # Output: Tesla Model S\n",
    "print(my_vehicle.max_speed)         # Output: 250\n",
    "print(my_vehicle.average_of_vehicle)   # Output: 120\n"
   ]
  },
  {
   "cell_type": "code",
   "execution_count": 2,
   "id": "112183ac-ad13-4b2c-9ea5-b245d26c542c",
   "metadata": {},
   "outputs": [
    {
     "name": "stdout",
     "output_type": "stream",
     "text": [
      "Toyota Corolla has a seating capacity of 5 persons.\n"
     ]
    }
   ],
   "source": [
    "#ans:2=\n",
    "class Car(Vehicle):\n",
    "    def __init__(self, name_of_vehicle, max_speed, average_of_vehicle):\n",
    "        super().__init__(name_of_vehicle, max_speed, average_of_vehicle)\n",
    "        \n",
    "    def seating_capacity(self, capacity):\n",
    "        return f\"{self.name_of_vehicle} has a seating capacity of {capacity} persons.\"\n",
    "my_car = Car(\"Toyota Corolla\", 180, 60)\n",
    "print(my_car.seating_capacity(5))   # Output: Toyota Corolla has a seating capacity of 5 persons.\n"
   ]
  },
  {
   "cell_type": "code",
   "execution_count": null,
   "id": "5c426dca-c54b-4b0f-89f1-d9dacb390e50",
   "metadata": {},
   "outputs": [],
   "source": [
    "#ans:3=\n",
    "Multiple inheritance is a feature of object-oriented programming languages like Python that allows a class to inherit from multiple parent classes. In multiple inheritance, a child class inherits the attributes and behaviors of more than one parent class.\n",
    "class Animal:\n",
    "    def __init__(self, name):\n",
    "        self.name = name\n",
    "        \n",
    "    def speak(self):\n",
    "        pass\n",
    "\n",
    "class Mammal(Animal):\n",
    "    def __init__(self, name):\n",
    "        super().__init__(name)\n",
    "        \n",
    "    def speak(self):\n",
    "        return \"Mammal speaks.\"\n",
    "\n",
    "class Bird(Animal):\n",
    "    def __init__(self, name):\n",
    "        super().__init__(name)\n",
    "        \n",
    "    def speak(self):\n",
    "        return \"Bird speaks.\"\n",
    "\n",
    "class Platypus(Mammal, Bird):\n",
    "    def __init__(self, name):\n",
    "        super().__init__(name)\n",
    "\n",
    "my_platypus = Platypus(\"Perry\")\n",
    "print(my_platypus.speak())   # Output: Mammal speaks.\n"
   ]
  },
  {
   "cell_type": "code",
   "execution_count": null,
   "id": "2e78847c-c1f4-475b-a8d4-29c49c97c7eb",
   "metadata": {},
   "outputs": [],
   "source": [
    "#ans:4=\n",
    "Getter and setter methods are used to access and modify instance variables of a class in Python. They are also known as accessor and mutator methods respectively.\n",
    "\n",
    "A getter method is used to retrieve the value of an instance variable, while a setter method is used to modify the value of an instance variable. They provide an additional layer of abstraction and control over how instance variables can be accessed and modified.\n",
    "class Person:\n",
    "    def __init__(self, name, age):\n",
    "        self.name = name\n",
    "        self._age = age   # Note: age is a private variable\n",
    "        \n",
    "    def get_age(self):\n",
    "        return self._age\n",
    "    \n",
    "    def set_age(self, new_age):\n",
    "        if new_age > 0:\n",
    "            self._age = new_age\n",
    "    \n",
    "    def display_info(self):\n",
    "        print(f\"{self.name} is {self._age} years old.\")\n",
    "my_person = Person(\"Alice\", 25)\n",
    "my_person.display_info()   # Output: Alice is 25 years old.\n",
    "\n",
    "my_person.set_age(30)\n",
    "my_person.display_info()   # Output: Alice is 30 years old.\n",
    "\n",
    "print(my_person.get_age())   # Output: 30\n"
   ]
  },
  {
   "cell_type": "code",
   "execution_count": null,
   "id": "e8700e40-275b-4010-a287-cf2e8c6c169c",
   "metadata": {},
   "outputs": [],
   "source": [
    "#ans:5=\n",
    "Method overriding is a feature of object-oriented programming that allows a subclass to provide its own implementation of a method that is already defined in its superclass. This can be useful when you want to customize the behavior of a method in a subclass without modifying the superclass.\n",
    "\n",
    "class Animal:\n",
    "    def speak(self):\n",
    "        print(\"The animal makes a sound.\")\n",
    "class Dog(Animal):\n",
    "    def speak(self):\n",
    "        print(\"The dog barks.\")\n"
   ]
  }
 ],
 "metadata": {
  "kernelspec": {
   "display_name": "Python 3 (ipykernel)",
   "language": "python",
   "name": "python3"
  },
  "language_info": {
   "codemirror_mode": {
    "name": "ipython",
    "version": 3
   },
   "file_extension": ".py",
   "mimetype": "text/x-python",
   "name": "python",
   "nbconvert_exporter": "python",
   "pygments_lexer": "ipython3",
   "version": "3.10.8"
  }
 },
 "nbformat": 4,
 "nbformat_minor": 5
}
